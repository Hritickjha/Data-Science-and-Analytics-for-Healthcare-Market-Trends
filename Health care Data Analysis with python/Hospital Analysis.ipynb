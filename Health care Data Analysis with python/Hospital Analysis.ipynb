{
 "cells": [
  {
   "cell_type": "code",
   "execution_count": 3,
   "id": "7a26d6ba-8486-4bab-9a32-e8ad0065c6b8",
   "metadata": {},
   "outputs": [],
   "source": [
    "#1. what is the total number of patients?"
   ]
  },
  {
   "cell_type": "code",
   "execution_count": 4,
   "id": "bfb0838a-dae7-4060-8f85-66a5b76861ca",
   "metadata": {},
   "outputs": [],
   "source": [
    "#2. what is the patient population distributed by gender?"
   ]
  },
  {
   "cell_type": "code",
   "execution_count": 5,
   "id": "02e3adf6-719b-4c45-b98a-bcdcc8d6b5bf",
   "metadata": {},
   "outputs": [],
   "source": [
    "#3. patient's Age-group by total visit"
   ]
  },
  {
   "cell_type": "code",
   "execution_count": 6,
   "id": "f4ec8a98-be02-44fe-956b-e1036f533d8a",
   "metadata": {},
   "outputs": [],
   "source": [
    "#4. which disease are most commonly diagnosed among the patients?"
   ]
  },
  {
   "cell_type": "code",
   "execution_count": 7,
   "id": "0c93ad7b-7e02-4908-b65c-001df07edd72",
   "metadata": {},
   "outputs": [],
   "source": [
    "#5. Are certain diseases more prevalent in one gender compared to the other?"
   ]
  },
  {
   "cell_type": "code",
   "execution_count": 7,
   "id": "f121270f-1498-413b-8513-1f083bc67c82",
   "metadata": {},
   "outputs": [],
   "source": [
    "#6. Calculate the duration of each patient stay and create a group to show numbers of patients in each group."
   ]
  },
  {
   "cell_type": "code",
   "execution_count": 7,
   "id": "86a66731-bde6-408b-beb8-7218c636b0a0",
   "metadata": {},
   "outputs": [],
   "source": [
    "#7. For any record with a recorded course of death, analyze pattern to identify risk factor"
   ]
  },
  {
   "cell_type": "code",
   "execution_count": 7,
   "id": "d6a502c2-9a09-4460-9de2-4c2bd983796a",
   "metadata": {},
   "outputs": [],
   "source": [
    "#8. what are the percentage of the following patients: Deceased, under-treatment and Recovered patients?"
   ]
  },
  {
   "cell_type": "code",
   "execution_count": 7,
   "id": "3ca538d2-f5af-4b9b-920f-2dc0d0ab9ac9",
   "metadata": {},
   "outputs": [],
   "source": [
    "#9. what are the peak days of the week on a monthly bases for admissions and discharges?"
   ]
  },
  {
   "cell_type": "code",
   "execution_count": 7,
   "id": "1f88d9ff-1f33-4bdb-8579-75d8740b6b53",
   "metadata": {},
   "outputs": [],
   "source": [
    "#10. what is the total number of patients admitted and discharged per week, month/year, and year? Add a filter to filter the month by year"
   ]
  },
  {
   "cell_type": "markdown",
   "id": "c38bcbba-a807-492f-bffe-28b5402bb039",
   "metadata": {},
   "source": [
    "### Reading data from csv"
   ]
  },
  {
   "cell_type": "markdown",
   "id": "0d66a56c-c24d-457a-81f2-57306e789dd0",
   "metadata": {},
   "source": [
    "### 1. what is th total number of patients?"
   ]
  },
  {
   "cell_type": "code",
   "execution_count": 16,
   "id": "29c8672f-aaa5-402c-948e-7b0efcabc783",
   "metadata": {},
   "outputs": [
    {
     "name": "stdout",
     "output_type": "stream",
     "text": [
      "   Patient ID  Gender         Disease         Treatment  \\\n",
      "0   PAT-00001    Male    Tuberculosis          Dialysis   \n",
      "1   PAT-00002  Female         Malaria          Dialysis   \n",
      "2   PAT-00003  Female         Malaria           Surgery   \n",
      "3   PAT-00004    Male          Asthma          Dialysis   \n",
      "4   PAT-00005  Female        Diabetes  Physical Therapy   \n",
      "5   PAT-00006    Male   Heart Disease          Dialysis   \n",
      "6   PAT-00007  Female    Tuberculosis          Dialysis   \n",
      "7   PAT-00008  Female   Heart Disease          Dialysis   \n",
      "8   PAT-00009  Female          Cancer          Dialysis   \n",
      "9   PAT-00010  Female         Malaria          Dialysis   \n",
      "10  PAT-00011    Male          Asthma           Surgery   \n",
      "11  PAT-00012    Male  Kidney Failure      Chemotherapy   \n",
      "12  PAT-00013    Male        HIV/AIDS  Physical Therapy   \n",
      "13  PAT-00014    Male   Heart Disease          Dialysis   \n",
      "14  PAT-00015    Male          Cancer  Physical Therapy   \n",
      "15  PAT-00016    Male    Tuberculosis  Physical Therapy   \n",
      "16  PAT-00017    Male         Typhoid  Physical Therapy   \n",
      "17  PAT-00018  Female          Asthma           Surgery   \n",
      "18  PAT-00019    Male          Stroke          Dialysis   \n",
      "19  PAT-00020    Male         Malaria      Radiotherapy   \n",
      "\n",
      "                 Hospital Admission Date Discharge Date Treatment Status  \\\n",
      "0   City General Hospital     2022-12-19     2023-01-16        Recovered   \n",
      "1   City General Hospital     2023-03-29     2023-04-21        Recovered   \n",
      "2   City General Hospital     2022-09-16     2022-10-15        Recovered   \n",
      "3   City General Hospital     2022-02-07     2022-02-11        Recovered   \n",
      "4   City General Hospital     2022-10-25     2022-10-30        Recovered   \n",
      "5   City General Hospital     2022-02-07     2022-02-15         Deceased   \n",
      "6   City General Hospital     2022-06-07     2022-06-30        Recovered   \n",
      "7   City General Hospital     2022-06-26     2022-06-27        Recovered   \n",
      "8   City General Hospital     2023-07-21     2023-08-07        Recovered   \n",
      "9   City General Hospital     2023-12-25     2024-01-05        Recovered   \n",
      "10  City General Hospital     2023-01-15     2023-02-05        Recovered   \n",
      "11  City General Hospital     2022-08-31     2022-09-12        Recovered   \n",
      "12  City General Hospital     2022-01-12     2022-02-03  Under Treatment   \n",
      "13  City General Hospital     2022-04-10     2022-04-20        Recovered   \n",
      "14  City General Hospital     2023-07-01     2023-07-19        Recovered   \n",
      "15  City General Hospital     2022-02-04     2022-02-24        Recovered   \n",
      "16  City General Hospital     2023-06-28     2023-07-05        Recovered   \n",
      "17  City General Hospital     2022-11-03     2022-11-29        Recovered   \n",
      "18  City General Hospital     2023-07-01     2023-07-08        Recovered   \n",
      "19  City General Hospital     2022-04-05     2022-04-09        Recovered   \n",
      "\n",
      "            Cause of Death Date of Birth  \n",
      "0                      NaN    1973-06-05  \n",
      "1                      NaN    1998-11-21  \n",
      "2                      NaN    1942-02-14  \n",
      "3                      NaN    1943-01-17  \n",
      "4                      NaN    1979-07-28  \n",
      "5   Multiple Organ Failure    1962-04-06  \n",
      "6                      NaN    1967-10-06  \n",
      "7                      NaN    2018-12-15  \n",
      "8                      NaN    1976-02-01  \n",
      "9                      NaN    2009-01-27  \n",
      "10                     NaN    1927-01-24  \n",
      "11                     NaN    1941-04-06  \n",
      "12                     NaN    1940-07-11  \n",
      "13                     NaN    1954-04-24  \n",
      "14                     NaN    1989-12-06  \n",
      "15                     NaN    1970-06-09  \n",
      "16                     NaN    1955-03-27  \n",
      "17                     NaN    2017-09-06  \n",
      "18                     NaN    1958-07-03  \n",
      "19                     NaN    2005-11-15  \n"
     ]
    }
   ],
   "source": [
    "import pandas as pd\n",
    "\n",
    "# Load data from CSV\n",
    "health_data = pd.read_csv(\"C:\\\\Users\\\\Hritick Jha\\\\Data Science and Analytics for Healthcare Market Trends\\\\Health care Data Analysis with python\\\\Health_dataset.csv\")\n",
    "\n",
    "# Display the first few rows\n",
    "print(health_data.head(20))\n"
   ]
  },
  {
   "cell_type": "code",
   "execution_count": 18,
   "id": "c771a820-a5aa-4ff6-a87f-85300a6a68ed",
   "metadata": {},
   "outputs": [
    {
     "name": "stdout",
     "output_type": "stream",
     "text": [
      "Total patients 8000\n"
     ]
    }
   ],
   "source": [
    "# count the number of patients\n",
    "total_records = health_data.shape[0]\n",
    "\n",
    "# What is the total number of patients?\n",
    "print(\"Total patients\", total_records)"
   ]
  },
  {
   "cell_type": "markdown",
   "id": "599b5d45-e3ff-4f21-8c5b-48adf8f31229",
   "metadata": {},
   "source": [
    "### 2. what is the patient population distributed by gender?"
   ]
  },
  {
   "cell_type": "code",
   "execution_count": 6,
   "id": "89a3e073-0f84-4d65-b6ff-2a8c69eb17f9",
   "metadata": {},
   "outputs": [
    {
     "name": "stdout",
     "output_type": "stream",
     "text": [
      "Gender Distribution:\n",
      "Gender\n",
      "Male      5206\n",
      "Female    2794\n",
      "Name: count, dtype: int64\n"
     ]
    }
   ],
   "source": [
    "import pandas as pd\n",
    "\n",
    "# Load data from CSV\n",
    "file_path = \"C:\\\\Users\\\\Hritick Jha\\\\Data Science and Analytics for Healthcare Market Trends\\\\Health care Data Analysis with python\\\\Health_dataset.csv\"\n",
    "\n",
    "try:\n",
    "    health_data = pd.read_csv(file_path)  # ✅ Ensure the dataset is loaded\n",
    "\n",
    "    # Check if 'Gender' column exists\n",
    "    if 'Gender' in health_data.columns:\n",
    "        Gender_Count = health_data['Gender'].value_counts()\n",
    "        print(\"Gender Distribution:\")\n",
    "        print(Gender_Count)\n",
    "    else:\n",
    "        print(\"Error: 'Gender' column not found in dataset.\")\n",
    "except FileNotFoundError:\n",
    "    print(\"Error: The file was not found. Check the file path.\")\n",
    "except Exception as e:\n",
    "    print(f\"An error occurred: {e}\")\n",
    "\n"
   ]
  },
  {
   "cell_type": "code",
   "execution_count": 10,
   "id": "1a8b07e3-3346-4530-92ff-1009cec8544c",
   "metadata": {},
   "outputs": [
    {
     "name": "stdout",
     "output_type": "stream",
     "text": [
      "Available columns: Index(['Patient ID', 'Gender', 'Disease', 'Treatment', 'Hospital',\n",
      "       'Admission Date', 'Discharge Date', 'Treatment Status',\n",
      "       'Cause of Death', 'Date of Birth'],\n",
      "      dtype='object')\n"
     ]
    },
    {
     "data": {
      "image/png": "[encoded data removed]",
      "text/plain": [
       "<Figure size 640x480 with 1 Axes>"
      ]
     },
     "metadata": {},
     "output_type": "display_data"
    }
   ],
   "source": [
    "import pandas as pd\n",
    "import matplotlib.pyplot as plt\n",
    "\n",
    "# Load data from CSV\n",
    "file_path = r\"C:\\Users\\Hritick Jha\\Data Science and Analytics for Healthcare Market Trends\\Health care Data Analysis with python\\Health_dataset.csv\"\n",
    "\n",
    "try:\n",
    "    # Load the dataset\n",
    "    health_data = pd.read_csv(file_path)\n",
    "    \n",
    "    # Display available columns (for debugging)\n",
    "    print(\"Available columns:\", health_data.columns)\n",
    "    \n",
    "    # Ensure 'Gender' column exists\n",
    "    if 'Gender' in health_data.columns:\n",
    "        gender_count = health_data['Gender'].value_counts()  # ✅ Fixed variable name\n",
    "\n",
    "        # Visualize gender distribution\n",
    "        gender_count.plot(kind='bar', color=['skyblue', 'lightgreen'])\n",
    "        \n",
    "        plt.title(\"Total patients by gender\")  # ✅ plt.title should be a function\n",
    "        plt.xlabel(\"Gender\")\n",
    "        plt.ylabel(\"Number of patients\")\n",
    "        plt.xticks(rotation=0)\n",
    "        \n",
    "        plt.show()\n",
    "    else:\n",
    "        print(\"Error: 'Gender' column not found in dataset.\")\n",
    "\n",
    "except FileNotFoundError:\n",
    "    print(\"Error: The file was not found. Check the file path.\")\n",
    "except Exception as e:\n",
    "    print(f\"An error occurred: {e}\")\n"
   ]
  },
  {
   "cell_type": "code",
   "execution_count": 14,
   "id": "1d567f0f-f403-440d-895b-7220ac2cf897",
   "metadata": {},
   "outputs": [
    {
     "data": {
      "image/png": "[encoded data removed]",
      "text/plain": [
       "<Figure size 640x480 with 1 Axes>"
      ]
     },
     "metadata": {},
     "output_type": "display_data"
    }
   ],
   "source": [
    "import pandas as pd\n",
    "import matplotlib.pyplot as plt\n",
    "\n",
    "# Load data from CSV\n",
    "file_path = r\"C:\\Users\\Hritick Jha\\Data Science and Analytics for Healthcare Market Trends\\Health care Data Analysis with python\\Health_dataset.csv\"\n",
    "\n",
    "try:\n",
    "    # Load the dataset\n",
    "    health_data = pd.read_csv(file_path)\n",
    "\n",
    "    # Ensure 'Gender' column exists\n",
    "    if 'Gender' in health_data.columns:\n",
    "        gender_count = health_data['Gender'].value_counts()\n",
    "\n",
    "        # Create bar plot\n",
    "        ax = gender_count.plot(kind='bar', color=['skyblue', 'lightgreen'])\n",
    "\n",
    "        # Title & labels\n",
    "        plt.title(\"Total Patients by Gender\")\n",
    "        plt.ylabel(\"Number of Patients\")\n",
    "        plt.xticks(rotation=0)\n",
    "\n",
    "        # Add data labels before plt.show()\n",
    "        for bar in ax.patches:\n",
    "            height = bar.get_height()\n",
    "            ax.annotate(\n",
    "                str(int(height)),  # Convert height to integer\n",
    "                xy=(bar.get_x() + bar.get_width() / 2, height),\n",
    "                xytext=(0, 5),\n",
    "                textcoords=\"offset points\",\n",
    "                ha='center',\n",
    "                va='bottom',\n",
    "                fontsize=10,\n",
    "                fontweight='bold'\n",
    "            )\n",
    "\n",
    "        # Show plot\n",
    "        plt.show()\n",
    "\n",
    "    else:\n",
    "        print(\"Error: 'Gender' column not found in dataset.\")\n",
    "\n",
    "except FileNotFoundError:\n",
    "    print(\"Error: The file was not found. Check the file path.\")\n",
    "except Exception as e:\n",
    "    print(f\"An error occurred: {e}\")\n"
   ]
  },
  {
   "cell_type": "markdown",
   "id": "6b062225-e65c-4b24-af3f-0ea2a913ab62",
   "metadata": {},
   "source": [
    "### 3. patient's Age-group by total visit\n",
    " \n",
    "  "
   ]
  },
  {
   "cell_type": "code",
   "execution_count": 22,
   "id": "da4add9a-3cb5-4460-a44a-8c041b0cc079",
   "metadata": {},
   "outputs": [
    {
     "name": "stdout",
     "output_type": "stream",
     "text": [
      "Age Group\n",
      "21-40     1646\n",
      "41-60     1608\n",
      "81-100    1603\n",
      "61-80     1580\n",
      "0-20      1533\n",
      "Name: count, dtype: int64\n"
     ]
    },
    {
     "data": {
      "image/png": "[encoded data removed]",
      "text/plain": [
       "<Figure size 640x480 with 1 Axes>"
      ]
     },
     "metadata": {},
     "output_type": "display_data"
    }
   ],
   "source": [
    "# convert the Admission date and Date of birth to proper date format\n",
    "health_data['Admission Date'] = pd.to_datetime(health_data['Admission Date'])\n",
    "health_data['Date of Birth'] = pd.to_datetime(health_data['Date of Birth'])\n",
    "\n",
    "#calculate the patients age as of the time of Admission in year\n",
    "health_data['Age'] = (health_data['Admission Date'] - health_data['Date of Birth']).dt.days /365.25\n",
    "health_data['Age'] = health_data['Age'].astype(int)\n",
    "\n",
    "# Dinfine age bins\n",
    "bins = [0,20,40,60,80,100]\n",
    "labels = ['0-20','21-40','41-60','61-80','81-100']\n",
    "\n",
    "# create an age group using the bins var diffined\n",
    "health_data['Age Group'] = pd.cut(health_data['Age'], bins=bins, labels=labels, right=False)\n",
    "\n",
    "# Count the number of patients in each age group\n",
    "age_count = health_data['Age Group']. value_counts()\n",
    "\n",
    "# visualize the age group\n",
    "ax = age_count.plot(kind='bar', color='blue')\n",
    "print(age_count)\n"
   ]
  },
  {
   "cell_type": "markdown",
   "id": "bcc7ce8e-f32c-4d09-bbbd-929b45e29d0e",
   "metadata": {},
   "source": [
    "### 4. which disease are most commonly diagnosed among the patients?"
   ]
  },
  {
   "cell_type": "code",
   "execution_count": 4,
   "id": "89f718da-5c7f-4b3e-91dc-2d0c24ad3fa4",
   "metadata": {},
   "outputs": [
    {
     "data": {
      "image/png": "[encoded data removed]",
      "text/plain": [
       "<Figure size 640x480 with 1 Axes>"
      ]
     },
     "metadata": {},
     "output_type": "display_data"
    }
   ],
   "source": [
    "import pandas as pd\n",
    "import matplotlib.pyplot as plt\n",
    "\n",
    "# Step 1: Load the dataset\n",
    "file_path = r\"C:\\Users\\Hritick Jha\\Data Science and Analytics for Healthcare Market Trends\\Health care Data Analysis with python\\Health_dataset.csv\"\n",
    "\n",
    "try:\n",
    "    health_data = pd.read_csv(file_path)\n",
    "\n",
    "    # Step 2: Check if 'Disease' column exists\n",
    "    if 'Disease' in health_data.columns:\n",
    "        # Step 3: Count the number of occurrences of each disease\n",
    "        disease_counts = health_data['Disease'].value_counts()\n",
    "\n",
    "        # Step 4: Plot\n",
    "        ax = disease_counts.plot(kind='bar', color='coral')\n",
    "        plt.title(\"Most Commonly Diagnosed Diseases\")\n",
    "        plt.xlabel(\"Disease\")\n",
    "        plt.ylabel(\"Number of Patients\")\n",
    "        plt.xticks(rotation=45, ha='right')\n",
    "\n",
    "        # Step 5: Add data labels\n",
    "        for bar in ax.patches:\n",
    "            height = bar.get_height()\n",
    "            ax.annotate(\n",
    "                str(int(height)),\n",
    "                xy=(bar.get_x() + bar.get_width() / 2, height),\n",
    "                xytext=(0, 5),\n",
    "                textcoords=\"offset points\",\n",
    "                ha='center',\n",
    "                va='bottom',\n",
    "                fontsize=9\n",
    "            )\n",
    "\n",
    "        plt.tight_layout()  # Adjust layout for better spacing\n",
    "        plt.show()\n",
    "    else:\n",
    "        print(\"Error: 'Disease' column not found in dataset.\")\n",
    "\n",
    "except FileNotFoundError:\n",
    "    print(\"Error: File not found. Check your file path.\")\n",
    "except Exception as e:\n",
    "    print(f\"An error occurred: {e}\")\n"
   ]
  },
  {
   "cell_type": "code",
   "execution_count": 6,
   "id": "98b654c8-d046-40e2-b08c-3435054f6372",
   "metadata": {},
   "outputs": [
    {
     "name": "stdout",
     "output_type": "stream",
     "text": [
      "Top 3 most commonly diagnosed diseases:\n",
      "Disease\n",
      "Malaria         1193\n",
      "Asthma           966\n",
      "Tuberculosis     864\n",
      "Name: count, dtype: int64\n"
     ]
    }
   ],
   "source": [
    "disease_count = health_data['Disease'].value_counts().nlargest(3)  # Get the top 3 diseases\n",
    "print(\"Top 3 most commonly diagnosed diseases:\")\n",
    "print(disease_count)\n"
   ]
  },
  {
   "cell_type": "code",
   "execution_count": 12,
   "id": "5ac21f1c-a87d-4976-8d4b-2451c637acd2",
   "metadata": {},
   "outputs": [
    {
     "name": "stdout",
     "output_type": "stream",
     "text": [
      "Total Count of the 3 most common diseases: 3,023\n"
     ]
    }
   ],
   "source": [
    "disease_count = health_data['Disease'].value_counts().nlargest(3)  # Get the top 3 diseases\n",
    "total_top3 = disease_count.sum()  # Use .sum(), not .Sum()\n",
    "format_value = \"{:,}\".format(total_top3)\n",
    "print(\"Total Count of the 3 most common diseases:\", format_value)\n"
   ]
  },
  {
   "cell_type": "code",
   "execution_count": 20,
   "id": "50907031-84aa-4bc8-8cdf-b83b375745c4",
   "metadata": {},
   "outputs": [
    {
     "name": "stdout",
     "output_type": "stream",
     "text": [
      "Total count of the 7 most common diseases: 5,655\n"
     ]
    }
   ],
   "source": [
    "dynamictop = 7\n",
    "disease_count = health_data['Disease'].value_counts().nlargest(dynamictop)  # Get the top 7 diseases\n",
    "total_top7 = disease_count.sum()\n",
    "formal_value = \"{:,}\".format(total_top)\n",
    "description = f\"Total count of the {dynamictop} most common diseases:\"\n",
    "print(description, formal_value)"
   ]
  },
  {
   "cell_type": "code",
   "execution_count": 21,
   "id": "da7255fc-100a-4b25-bb5f-4a0d2317ec4c",
   "metadata": {},
   "outputs": [
    {
     "name": "stdout",
     "output_type": "stream",
     "text": [
      "Disease\n",
      "Malaria         1193\n",
      "Asthma           966\n",
      "Tuberculosis     864\n",
      "Name: count, dtype: int64\n"
     ]
    }
   ],
   "source": [
    "disease_count = health_data['Disease'].value_counts().nlargest(3) #Get the top 3 disease\n",
    "print(disease_count)"
   ]
  },
  {
   "cell_type": "code",
   "execution_count": 22,
   "id": "935d5c2e-23dd-4ef2-a9f8-5d3b2adbdfe2",
   "metadata": {},
   "outputs": [
    {
     "name": "stdout",
     "output_type": "stream",
     "text": [
      "Disease\n",
      "Dengue           69\n",
      "COVID-19        157\n",
      "Hypertension    173\n",
      "Name: count, dtype: int64\n"
     ]
    }
   ],
   "source": [
    "disease_count = health_data['Disease'].value_counts().nsmallest(3) #Get the top 3 disease\n",
    "print(disease_count)"
   ]
  },
  {
   "cell_type": "code",
   "execution_count": 23,
   "id": "009f48a0-ac30-48e6-9daa-b08948807b18",
   "metadata": {},
   "outputs": [
    {
     "name": "stdout",
     "output_type": "stream",
     "text": [
      "8000\n"
     ]
    }
   ],
   "source": [
    "disease_count = health_data['Disease'].value_counts().nlargest(3) #Get the top 3 disease\n",
    "total_diseases_count = health_data['Disease'].value_counts().sum()\n",
    "print(total_diseases_count)"
   ]
  },
  {
   "cell_type": "code",
   "execution_count": 24,
   "id": "17faa063-1206-401e-b2e6-7f0cf3fd2645",
   "metadata": {},
   "outputs": [
    {
     "name": "stdout",
     "output_type": "stream",
     "text": [
      "Disease\n",
      "Malaria         1193\n",
      "Asthma           966\n",
      "Tuberculosis     864\n",
      "Name: count, dtype: int64\n"
     ]
    }
   ],
   "source": [
    "disease_count = health_data['Disease'].value_counts().nlargest(3) #Get the top 3 disease\n",
    "total_diseases_count = health_data['Disease'].value_counts().sum()\n",
    "print(disease_count)"
   ]
  },
  {
   "cell_type": "code",
   "execution_count": 27,
   "id": "12b4e576-8d0b-4d58-aa51-6a771712a4bd",
   "metadata": {},
   "outputs": [
    {
     "name": "stdout",
     "output_type": "stream",
     "text": [
      "Disease\n",
      "Malaria         14.9125\n",
      "Asthma          12.0750\n",
      "Tuberculosis    10.8000\n",
      "Name: count, dtype: float64\n"
     ]
    }
   ],
   "source": [
    "disease_counttop3 = health_data['Disease'].value_counts().nlargest(3)  # Get the top 3 diseases\n",
    "total_diseases_count = health_data['Disease'].value_counts().sum()     # Total of all diseases\n",
    "\n",
    "# Calculate the percentage share of top 3 diseases\n",
    "percentage = (disease_counttop3 / total_diseases_count) * 100\n",
    "print(percentage)\n",
    "\n"
   ]
  },
  {
   "cell_type": "code",
   "execution_count": 28,
   "id": "b24be4c1-7d0e-46f4-bf50-1807ef66daef",
   "metadata": {},
   "outputs": [
    {
     "name": "stdout",
     "output_type": "stream",
     "text": [
      "Disease\n",
      "Malaria         15\n",
      "Asthma          12\n",
      "Tuberculosis    11\n",
      "Name: count, dtype: int32\n"
     ]
    }
   ],
   "source": [
    "disease_counttop3 = health_data['Disease'].value_counts().nlargest(3)  # Get the top 3 diseases\n",
    "total_diseases_count = health_data['Disease'].value_counts().sum()     # Total of all diseases\n",
    "\n",
    "# Calculate the percentage share of top 3 diseases\n",
    "percentage = (disease_counttop3 / total_diseases_count) * 100\n",
    "roundpercentage = percentage.round(0).astype(int)\n",
    "print(roundpercentage)\n"
   ]
  },
  {
   "cell_type": "code",
   "execution_count": 30,
   "id": "a28aff65-5670-4a82-b6f1-90d40405b6fe",
   "metadata": {},
   "outputs": [
    {
     "name": "stdout",
     "output_type": "stream",
     "text": [
      "Malaria: Disease\n",
      "Malaria         15\n",
      "Asthma          12\n",
      "Tuberculosis    11\n",
      "Name: count, dtype: int32%\n",
      "Asthma: Disease\n",
      "Malaria         15\n",
      "Asthma          12\n",
      "Tuberculosis    11\n",
      "Name: count, dtype: int32%\n",
      "Tuberculosis: Disease\n",
      "Malaria         15\n",
      "Asthma          12\n",
      "Tuberculosis    11\n",
      "Name: count, dtype: int32%\n"
     ]
    }
   ],
   "source": [
    "disease_counttop3 = health_data['Disease'].value_counts().nlargest(3)  # Get the top 3 diseases\n",
    "total_diseases_count = health_data['Disease'].value_counts().sum()     # Total of all diseases\n",
    "\n",
    "# Calculate the percentage share of top 3 diseases\n",
    "percentage = (disease_counttop3 / total_diseases_count) * 100\n",
    "roundpercentage = percentage.round(0).astype(int)\n",
    "\n",
    "for disease, pct in roundpercentage.items():\n",
    "    print(f\"{disease}: {roundpercentage}%\")\n"
   ]
  },
  {
   "cell_type": "code",
   "execution_count": 31,
   "id": "e3e62af7-a329-4260-9b98-ce5360cebc36",
   "metadata": {},
   "outputs": [
    {
     "name": "stdout",
     "output_type": "stream",
     "text": [
      "Malaria: 15%\n",
      "Asthma: 12%\n",
      "Tuberculosis: 11%\n"
     ]
    }
   ],
   "source": [
    "disease_counttop3 = health_data['Disease'].value_counts().nlargest(3)  # Get the top 3 diseases\n",
    "total_diseases_count = health_data['Disease'].value_counts().sum()     # Total of all diseases\n",
    "\n",
    "# Calculate the percentage share of top 3 diseases\n",
    "percentage = (disease_counttop3 / total_diseases_count) * 100\n",
    "roundpercentage = percentage.round(0).astype(int)\n",
    "\n",
    "for disease, pct in roundpercentage.items():\n",
    "    print(f\"{disease}: {pct}%\")"
   ]
  },
  {
   "cell_type": "code",
   "execution_count": 32,
   "id": "24dfec3a-49d4-4773-bae7-c82c477042b9",
   "metadata": {},
   "outputs": [
    {
     "name": "stdout",
     "output_type": "stream",
     "text": [
      "Malaria: 15%\n",
      "Asthma: 12%\n",
      "Tuberculosis: 11%\n"
     ]
    }
   ],
   "source": [
    "disease_counttop3 = health_data['Disease'].value_counts().nlargest(3)  # Get the top 3 diseases\n",
    "total_diseases_count = health_data['Disease'].value_counts().sum()     # Total of all diseases\n",
    "\n",
    "# Calculate the percentage share of top 3 diseases\n",
    "percentage = (disease_counttop3 / total_diseases_count) * 100\n",
    "roundpercentage = percentage.round(0).astype(int)\n",
    "\n",
    "for disease, anything in roundpercentage.items():\n",
    "    print(f\"{disease}: {anything}%\")"
   ]
  },
  {
   "cell_type": "code",
   "execution_count": 39,
   "id": "5787b110-4068-4a4b-899b-9a461cddf354",
   "metadata": {},
   "outputs": [
    {
     "name": "stdout",
     "output_type": "stream",
     "text": [
      "Malaria: 39%\n",
      "Asthma: 32%\n",
      "Tuberculosis: 29%\n"
     ]
    }
   ],
   "source": [
    "disease_counttop3 = health_data['Disease'].value_counts().nlargest(3)  # Get the top 3 diseases\n",
    "total_diseasestop3count = disease_counttop3.sum()\n",
    "# Calculate the percentage share of top 3 diseases\n",
    "\n",
    "pcttop3 = (disease_counttop3/total_diseasestop3count)*100\n",
    "roundpct = pcttop3.round(0).astype(int)\n",
    "\n",
    "for disease, anything in roundpct.items():\n",
    "    print(f\"{disease}: {anything}%\")\n",
    "\n"
   ]
  },
  {
   "cell_type": "markdown",
   "id": "19ed0cc8-8b35-48f2-84dc-a34627187d1a",
   "metadata": {},
   "source": [
    "\n",
    "### 5. Are certain diseases more prevalent in one gender compared to the other?"
   ]
  },
  {
   "cell_type": "code",
   "execution_count": 41,
   "id": "d1eb0d31-d03c-4b62-a3e1-63dbc446f64a",
   "metadata": {},
   "outputs": [
    {
     "name": "stdout",
     "output_type": "stream",
     "text": [
      "Diseases that are common among genders\n",
      "Gender          Female  Male\n",
      "Disease                     \n",
      "Asthma             320   646\n",
      "COVID-19            53   104\n",
      "Cancer             239   452\n",
      "Dengue              27    42\n",
      "Diabetes           256   438\n",
      "HIV/AIDS           155   333\n",
      "Heart Disease      206   361\n",
      "Hypertension        65   108\n",
      "Kidney Failure     182   293\n",
      "Liver Disease       73   171\n",
      "Malaria            407   786\n",
      "Pneumonia           93   153\n",
      "Stroke             177   316\n",
      "Tuberculosis       302   562\n",
      "Typhoid            239   441\n"
     ]
    }
   ],
   "source": [
    "gender_disease = pd.crosstab(health_data['Disease'], health_data['Gender'])\n",
    "print(\"Diseases that are common among genders\")\n",
    "print(gender_disease)"
   ]
  },
  {
   "cell_type": "markdown",
   "id": "e374941f-3860-4aa5-9834-5128cde2a340",
   "metadata": {},
   "source": [
    "### 6. Calculate the duration of each patient stay and create a group to show numbers of patients in each group."
   ]
  },
  {
   "cell_type": "code",
   "execution_count": 47,
   "id": "b9af7197-62e4-4cf3-a70e-47adbaae4a84",
   "metadata": {},
   "outputs": [
    {
     "name": "stdout",
     "output_type": "stream",
     "text": [
      "  Admission Date Discharge Date  Stay Duration\n",
      "0     2022-12-19     2023-01-16             28\n",
      "1     2023-03-29     2023-04-21             23\n",
      "2     2022-09-16     2022-10-15             29\n",
      "3     2022-02-07     2022-02-11              4\n",
      "4     2022-10-25     2022-10-30              5\n",
      "5     2022-02-07     2022-02-15              8\n",
      "6     2022-06-07     2022-06-30             23\n",
      "7     2022-06-26     2022-06-27              1\n",
      "8     2023-07-21     2023-08-07             17\n",
      "9     2023-12-25     2024-01-05             11\n"
     ]
    }
   ],
   "source": [
    "# convert data in proper date data type\n",
    "df['Admission Date'] = pd.to_datetime(df['Admission Date'])\n",
    "df['Discharge Date'] = pd.to_datetime(df['Discharge Date'])\n",
    "\n",
    "df['Stay Duration'] = (df['Discharge Date'] - df['Admission Date']).dt.days\n",
    "print(df[['Admission Date', 'Discharge Date' ,'Stay Duration']].head(10))"
   ]
  },
  {
   "cell_type": "markdown",
   "id": "56b6aa9e-6829-4e57-ae6d-b1b6775aa351",
   "metadata": {},
   "source": [
    "### Group Stay Duration"
   ]
  },
  {
   "cell_type": "code",
   "execution_count": 53,
   "id": "2ee164ed-619c-4442-9710-f194d1ac292e",
   "metadata": {},
   "outputs": [
    {
     "name": "stdout",
     "output_type": "stream",
     "text": [
      "   Stay Duration    Stay Bucket\n",
      "0             28  Above 21 Days\n",
      "1             23  Above 21 Days\n",
      "2             29  Above 21 Days\n",
      "3              4       4-7 Days\n",
      "4              5       4-7 Days\n"
     ]
    }
   ],
   "source": [
    "bins = [-1, 0, 3, 7, 14, 20, float('inf')]\n",
    "labels = [\"Same Day\", \"1-3 Days\", \"4-7 Days\", \"8-14 Days\", \"15-20 Days\", \"Above 21 Days\"]\n",
    "\n",
    "# Apply cut\n",
    "df['Stay Bucket'] = pd.cut(df['Stay Duration'], bins=bins, labels=labels, right=True)\n",
    "\n",
    "# Show the result\n",
    "print(df[['Stay Duration', 'Stay Bucket']].head())\n",
    "\n"
   ]
  },
  {
   "cell_type": "code",
   "execution_count": 54,
   "id": "6963bb8a-d49a-451b-8121-6e0c9544905a",
   "metadata": {},
   "outputs": [
    {
     "name": "stdout",
     "output_type": "stream",
     "text": [
      "0       Above 21 Days\n",
      "1       Above 21 Days\n",
      "2       Above 21 Days\n",
      "3            4-7 Days\n",
      "4            4-7 Days\n",
      "            ...      \n",
      "7995         4-7 Days\n",
      "7996    Above 21 Days\n",
      "7997        8-14 Days\n",
      "7998    Above 21 Days\n",
      "7999    Above 21 Days\n",
      "Name: Stay Bucket, Length: 8000, dtype: category\n",
      "Categories (6, object): ['Same Day' < '1-3 Days' < '4-7 Days' < '8-14 Days' < '15-20 Days' < 'Above 21 Days']\n"
     ]
    }
   ],
   "source": [
    "bins = [-1, 0, 3, 7, 14, 20, float('inf')]\n",
    "labels = [\"Same Day\", \"1-3 Days\", \"4-7 Days\", \"8-14 Days\", \"15-20 Days\", \"Above 21 Days\"]\n",
    "\n",
    "# Apply cut\n",
    "df['Stay Bucket'] = pd.cut(df['Stay Duration'], bins=bins, labels=labels, right=True)\n",
    "\n",
    "# Show the result\n",
    "print(df['Stay Bucket'])\n"
   ]
  },
  {
   "cell_type": "markdown",
   "id": "fe993db9-05e6-4a16-867f-3b8b12fd4ae7",
   "metadata": {},
   "source": [
    "#### Number of patient on each group"
   ]
  },
  {
   "cell_type": "code",
   "execution_count": 55,
   "id": "533c4098-9579-4b1b-945a-e5365b5c2dbf",
   "metadata": {},
   "outputs": [
    {
     "name": "stdout",
     "output_type": "stream",
     "text": [
      "Stay Bucket\n",
      "Above 21 Days    2682\n",
      "8-14 Days        1837\n",
      "15-20 Days       1587\n",
      "4-7 Days         1087\n",
      "1-3 Days          807\n",
      "Same Day            0\n",
      "Name: count, dtype: int64\n"
     ]
    }
   ],
   "source": [
    "total_group_patient = df['Stay Bucket'].value_counts()\n",
    "print(total_group_patient)"
   ]
  },
  {
   "cell_type": "markdown",
   "id": "cb79ebb1-efbb-49d6-b5bc-d8dd9da77e8a",
   "metadata": {},
   "source": [
    "### create chart to visualize it"
   ]
  },
  {
   "cell_type": "code",
   "execution_count": 58,
   "id": "d4ee6d47-1664-45c2-a2b0-0384a34616ed",
   "metadata": {},
   "outputs": [
    {
     "data": {
      "image/png": "[encoded data removed]",
      "text/plain": [
       "<Figure size 640x480 with 1 Axes>"
      ]
     },
     "metadata": {},
     "output_type": "display_data"
    }
   ],
   "source": [
    "import matplotlib.pyplot as plt\n",
    "total_group_patient.plot(kind='bar', color=['#026773'])  # Added comma\n",
    "plt.title(\"Total Patients by length of stay\")  # Optional: add a title\n",
    "plt.ylabel(\"Number of Patients\")\n",
    "plt.xlabel(\"Group\")\n",
    "plt.show()\n"
   ]
  },
  {
   "cell_type": "markdown",
   "id": "11355f12-33aa-4c65-b915-d98312d9957a",
   "metadata": {},
   "source": [
    "### 7.For any records with a recorded course of death, analyze pattern to identify risk factor"
   ]
  },
  {
   "cell_type": "code",
   "execution_count": 61,
   "id": "b69afbb7-73ea-4211-b515-2e9ccada37a1",
   "metadata": {},
   "outputs": [
    {
     "name": "stdout",
     "output_type": "stream",
     "text": [
      "Most common causes of death:\n",
      "Cause of Death\n",
      "Multiple Organ Failure    114\n",
      "Respiratory Failure       109\n",
      "Cardiac Arrest            102\n",
      "Septic Shock               94\n",
      "Name: count, dtype: int64\n"
     ]
    }
   ],
   "source": [
    "# Filter records where the cause of death is not empty\n",
    "death_cause = df.dropna(subset=['Cause of Death'])\n",
    "\n",
    "# Count the causes of death\n",
    "count_cause = death_cause['Cause of Death'].value_counts()\n",
    "\n",
    "print(\"Most common causes of death:\")\n",
    "print(count_cause)\n"
   ]
  },
  {
   "cell_type": "markdown",
   "id": "a73bfeab-bdc7-4dc7-b75a-7f0398e9cbf5",
   "metadata": {},
   "source": [
    "### visualize the finding"
   ]
  },
  {
   "cell_type": "code",
   "execution_count": 72,
   "id": "24fe8899-a6a3-4c34-b4bf-a27c68ac5978",
   "metadata": {},
   "outputs": [
    {
     "data": {
      "text/plain": [
       "Text(0.5, 1.0, 'Top causes of Death')"
      ]
     },
     "execution_count": 72,
     "metadata": {},
     "output_type": "execute_result"
    },
    {
     "data": {
      "image/png": "[encoded data removed]",
      "text/plain": [
       "<Figure size 1000x700 with 1 Axes>"
      ]
     },
     "metadata": {},
     "output_type": "display_data"
    }
   ],
   "source": [
    "import matplotlib.pyplot as plt\n",
    "plt.figure(figsize = (10,7))\n",
    "count_cause.plot(kind='bar',color='red')\n",
    "plt.xticks(rotation=45)\n",
    "plt.title(\"Top causes of Death\")"
   ]
  },
  {
   "cell_type": "markdown",
   "id": "2cec891a-471b-4c9c-8eeb-ba3cd3298e88",
   "metadata": {},
   "source": [
    "### Connecting to data"
   ]
  },
  {
   "cell_type": "code",
   "execution_count": 74,
   "id": "c7768136-9134-4b1a-957c-415e69e7f158",
   "metadata": {},
   "outputs": [
    {
     "data": {
      "text/html": [
       "<div>\n",
       "<style scoped>\n",
       "    .dataframe tbody tr th:only-of-type {\n",
       "        vertical-align: middle;\n",
       "    }\n",
       "\n",
       "    .dataframe tbody tr th {\n",
       "        vertical-align: top;\n",
       "    }\n",
       "\n",
       "    .dataframe thead th {\n",
       "        text-align: right;\n",
       "    }\n",
       "</style>\n",
       "<table border=\"1\" class=\"dataframe\">\n",
       "  <thead>\n",
       "    <tr style=\"text-align: right;\">\n",
       "      <th></th>\n",
       "      <th>Patient ID</th>\n",
       "      <th>Gender</th>\n",
       "      <th>Disease</th>\n",
       "      <th>Treatment</th>\n",
       "      <th>Hospital</th>\n",
       "      <th>Admission Date</th>\n",
       "      <th>Discharge Date</th>\n",
       "      <th>Treatment Status</th>\n",
       "      <th>Cause of Death</th>\n",
       "      <th>Date of Birth</th>\n",
       "    </tr>\n",
       "  </thead>\n",
       "  <tbody>\n",
       "    <tr>\n",
       "      <th>0</th>\n",
       "      <td>PAT-00001</td>\n",
       "      <td>Male</td>\n",
       "      <td>Tuberculosis</td>\n",
       "      <td>Dialysis</td>\n",
       "      <td>City General Hospital</td>\n",
       "      <td>2022-12-19</td>\n",
       "      <td>2023-01-16</td>\n",
       "      <td>Recovered</td>\n",
       "      <td>NaN</td>\n",
       "      <td>1973-06-05</td>\n",
       "    </tr>\n",
       "    <tr>\n",
       "      <th>1</th>\n",
       "      <td>PAT-00002</td>\n",
       "      <td>Female</td>\n",
       "      <td>Malaria</td>\n",
       "      <td>Dialysis</td>\n",
       "      <td>City General Hospital</td>\n",
       "      <td>2023-03-29</td>\n",
       "      <td>2023-04-21</td>\n",
       "      <td>Recovered</td>\n",
       "      <td>NaN</td>\n",
       "      <td>1998-11-21</td>\n",
       "    </tr>\n",
       "    <tr>\n",
       "      <th>2</th>\n",
       "      <td>PAT-00003</td>\n",
       "      <td>Female</td>\n",
       "      <td>Malaria</td>\n",
       "      <td>Surgery</td>\n",
       "      <td>City General Hospital</td>\n",
       "      <td>2022-09-16</td>\n",
       "      <td>2022-10-15</td>\n",
       "      <td>Recovered</td>\n",
       "      <td>NaN</td>\n",
       "      <td>1942-02-14</td>\n",
       "    </tr>\n",
       "    <tr>\n",
       "      <th>3</th>\n",
       "      <td>PAT-00004</td>\n",
       "      <td>Male</td>\n",
       "      <td>Asthma</td>\n",
       "      <td>Dialysis</td>\n",
       "      <td>City General Hospital</td>\n",
       "      <td>2022-02-07</td>\n",
       "      <td>2022-02-11</td>\n",
       "      <td>Recovered</td>\n",
       "      <td>NaN</td>\n",
       "      <td>1943-01-17</td>\n",
       "    </tr>\n",
       "    <tr>\n",
       "      <th>4</th>\n",
       "      <td>PAT-00005</td>\n",
       "      <td>Female</td>\n",
       "      <td>Diabetes</td>\n",
       "      <td>Physical Therapy</td>\n",
       "      <td>City General Hospital</td>\n",
       "      <td>2022-10-25</td>\n",
       "      <td>2022-10-30</td>\n",
       "      <td>Recovered</td>\n",
       "      <td>NaN</td>\n",
       "      <td>1979-07-28</td>\n",
       "    </tr>\n",
       "    <tr>\n",
       "      <th>...</th>\n",
       "      <td>...</td>\n",
       "      <td>...</td>\n",
       "      <td>...</td>\n",
       "      <td>...</td>\n",
       "      <td>...</td>\n",
       "      <td>...</td>\n",
       "      <td>...</td>\n",
       "      <td>...</td>\n",
       "      <td>...</td>\n",
       "      <td>...</td>\n",
       "    </tr>\n",
       "    <tr>\n",
       "      <th>7995</th>\n",
       "      <td>PAT-07996</td>\n",
       "      <td>Male</td>\n",
       "      <td>HIV/AIDS</td>\n",
       "      <td>Radiotherapy</td>\n",
       "      <td>Sunrise Clinic</td>\n",
       "      <td>2022-06-28</td>\n",
       "      <td>2022-07-05</td>\n",
       "      <td>Recovered</td>\n",
       "      <td>NaN</td>\n",
       "      <td>1925-11-10</td>\n",
       "    </tr>\n",
       "    <tr>\n",
       "      <th>7996</th>\n",
       "      <td>PAT-07997</td>\n",
       "      <td>Female</td>\n",
       "      <td>Heart Disease</td>\n",
       "      <td>Chemotherapy</td>\n",
       "      <td>Sunrise Clinic</td>\n",
       "      <td>2022-01-28</td>\n",
       "      <td>2022-02-25</td>\n",
       "      <td>Recovered</td>\n",
       "      <td>NaN</td>\n",
       "      <td>2004-06-15</td>\n",
       "    </tr>\n",
       "    <tr>\n",
       "      <th>7997</th>\n",
       "      <td>PAT-07998</td>\n",
       "      <td>Male</td>\n",
       "      <td>Asthma</td>\n",
       "      <td>Dialysis</td>\n",
       "      <td>Sunrise Clinic</td>\n",
       "      <td>2022-09-14</td>\n",
       "      <td>2022-09-22</td>\n",
       "      <td>Recovered</td>\n",
       "      <td>NaN</td>\n",
       "      <td>1993-10-03</td>\n",
       "    </tr>\n",
       "    <tr>\n",
       "      <th>7998</th>\n",
       "      <td>PAT-07999</td>\n",
       "      <td>Male</td>\n",
       "      <td>Typhoid</td>\n",
       "      <td>Ventilation Support</td>\n",
       "      <td>Sunrise Clinic</td>\n",
       "      <td>2023-08-04</td>\n",
       "      <td>2023-08-25</td>\n",
       "      <td>Recovered</td>\n",
       "      <td>NaN</td>\n",
       "      <td>1999-02-01</td>\n",
       "    </tr>\n",
       "    <tr>\n",
       "      <th>7999</th>\n",
       "      <td>PAT-08000</td>\n",
       "      <td>Male</td>\n",
       "      <td>Tuberculosis</td>\n",
       "      <td>Medication</td>\n",
       "      <td>Sunrise Clinic</td>\n",
       "      <td>2023-09-09</td>\n",
       "      <td>2023-10-06</td>\n",
       "      <td>Recovered</td>\n",
       "      <td>NaN</td>\n",
       "      <td>1932-03-17</td>\n",
       "    </tr>\n",
       "  </tbody>\n",
       "</table>\n",
       "<p>8000 rows × 10 columns</p>\n",
       "</div>"
      ],
      "text/plain": [
       "     Patient ID  Gender        Disease            Treatment  \\\n",
       "0     PAT-00001    Male   Tuberculosis             Dialysis   \n",
       "1     PAT-00002  Female        Malaria             Dialysis   \n",
       "2     PAT-00003  Female        Malaria              Surgery   \n",
       "3     PAT-00004    Male         Asthma             Dialysis   \n",
       "4     PAT-00005  Female       Diabetes     Physical Therapy   \n",
       "...         ...     ...            ...                  ...   \n",
       "7995  PAT-07996    Male       HIV/AIDS         Radiotherapy   \n",
       "7996  PAT-07997  Female  Heart Disease         Chemotherapy   \n",
       "7997  PAT-07998    Male         Asthma             Dialysis   \n",
       "7998  PAT-07999    Male        Typhoid  Ventilation Support   \n",
       "7999  PAT-08000    Male   Tuberculosis           Medication   \n",
       "\n",
       "                   Hospital Admission Date Discharge Date Treatment Status  \\\n",
       "0     City General Hospital     2022-12-19     2023-01-16        Recovered   \n",
       "1     City General Hospital     2023-03-29     2023-04-21        Recovered   \n",
       "2     City General Hospital     2022-09-16     2022-10-15        Recovered   \n",
       "3     City General Hospital     2022-02-07     2022-02-11        Recovered   \n",
       "4     City General Hospital     2022-10-25     2022-10-30        Recovered   \n",
       "...                     ...            ...            ...              ...   \n",
       "7995         Sunrise Clinic     2022-06-28     2022-07-05        Recovered   \n",
       "7996         Sunrise Clinic     2022-01-28     2022-02-25        Recovered   \n",
       "7997         Sunrise Clinic     2022-09-14     2022-09-22        Recovered   \n",
       "7998         Sunrise Clinic     2023-08-04     2023-08-25        Recovered   \n",
       "7999         Sunrise Clinic     2023-09-09     2023-10-06        Recovered   \n",
       "\n",
       "     Cause of Death Date of Birth  \n",
       "0               NaN    1973-06-05  \n",
       "1               NaN    1998-11-21  \n",
       "2               NaN    1942-02-14  \n",
       "3               NaN    1943-01-17  \n",
       "4               NaN    1979-07-28  \n",
       "...             ...           ...  \n",
       "7995            NaN    1925-11-10  \n",
       "7996            NaN    2004-06-15  \n",
       "7997            NaN    1993-10-03  \n",
       "7998            NaN    1999-02-01  \n",
       "7999            NaN    1932-03-17  \n",
       "\n",
       "[8000 rows x 10 columns]"
      ]
     },
     "execution_count": 74,
     "metadata": {},
     "output_type": "execute_result"
    }
   ],
   "source": [
    "import pandas as pd\n",
    "import matplotlib.pyplot as plt\n",
    "\n",
    "file_path = (r\"C:\\Users\\Hritick Jha\\Data Science and Analytics for Healthcare Market Trends\\Health care Data Analysis with python\\Health_dataset.csv\")\n",
    "df = pd.read_csv(file_path)\n",
    "df"
   ]
  },
  {
   "cell_type": "markdown",
   "id": "8d70c280-ccab-4de8-ba93-e6fb1f95e29d",
   "metadata": {},
   "source": [
    "### 8. what are the percentage of the following patients: Decreased, under-treatment and Recovered patients?"
   ]
  },
  {
   "cell_type": "code",
   "execution_count": 75,
   "id": "3d7a1b66-4650-40b1-af01-7d60d7a6e855",
   "metadata": {},
   "outputs": [
    {
     "data": {
      "text/plain": [
       "8000"
      ]
     },
     "execution_count": 75,
     "metadata": {},
     "output_type": "execute_result"
    }
   ],
   "source": [
    "#Total patients\n",
    "total_patients = df.shape[0]\n",
    "total_patients"
   ]
  },
  {
   "cell_type": "code",
   "execution_count": 76,
   "id": "280e4f5d-2da9-4806-850b-daf7d2db61ff",
   "metadata": {},
   "outputs": [
    {
     "data": {
      "text/plain": [
       "419"
      ]
     },
     "execution_count": 76,
     "metadata": {},
     "output_type": "execute_result"
    }
   ],
   "source": [
    "#Total death patientents\n",
    "total_death = (df['Treatment Status'].str.lower() == 'deceased').sum()\n",
    "total_death"
   ]
  },
  {
   "cell_type": "code",
   "execution_count": 77,
   "id": "7cf15296-dc31-42dc-91cb-3ab899f7b8ec",
   "metadata": {},
   "outputs": [
    {
     "data": {
      "text/plain": [
       "5.2375"
      ]
     },
     "execution_count": 77,
     "metadata": {},
     "output_type": "execute_result"
    }
   ],
   "source": [
    "#percentage of deceased\n",
    "death_rate = (total_death / total_patients) * 100 if total_patients > 0 else 0\n",
    "death_rate"
   ]
  },
  {
   "cell_type": "code",
   "execution_count": 81,
   "id": "2e9fb2c1-5952-4d77-ac8c-b36483301568",
   "metadata": {},
   "outputs": [
    {
     "name": "stdout",
     "output_type": "stream",
     "text": [
      "total_patients: 8000\n",
      "total_death: 419\n",
      "death_rate: 5.2375\n"
     ]
    }
   ],
   "source": [
    "print(f\"total_patients:\", total_patients)\n",
    "print(f\"total_death:\", total_death)\n",
    "print(f\"death_rate:\", death_rate)"
   ]
  },
  {
   "cell_type": "markdown",
   "id": "6461e594-e728-4678-8bc6-4e0dd39c9f4e",
   "metadata": {},
   "source": [
    "### Recovered Patients"
   ]
  },
  {
   "cell_type": "code",
   "execution_count": 88,
   "id": "b2fb6138-f906-4901-b97d-49fb68bc11eb",
   "metadata": {},
   "outputs": [
    {
     "data": {
      "text/plain": [
       "6819"
      ]
     },
     "execution_count": 88,
     "metadata": {},
     "output_type": "execute_result"
    }
   ],
   "source": [
    "# Total Recovered patientents\n",
    "total_recovered = (df['Treatment Status'].str.lower() =='recovered').sum()\n",
    "\n",
    "#percentage of deceased\n",
    "recovered_rate = (total_recovered / total_patients) * 100 if total_patients > 0 else 0\n",
    "total_recovered"
   ]
  },
  {
   "cell_type": "code",
   "execution_count": 87,
   "id": "0d2f451f-99d9-4941-9d68-0ac53a07eeec",
   "metadata": {},
   "outputs": [
    {
     "data": {
      "text/plain": [
       "85.2375"
      ]
     },
     "execution_count": 87,
     "metadata": {},
     "output_type": "execute_result"
    }
   ],
   "source": [
    "# Total Recovered patientents\n",
    "total_recovered = (df['Treatment Status'].str.lower() =='recovered').sum()\n",
    "\n",
    "#percentage of deceased\n",
    "recovered_rate = (total_recovered / total_patients) * 100 if total_patients > 0 else 0\n",
    "recovered_rate"
   ]
  },
  {
   "cell_type": "markdown",
   "id": "286a7eae-4235-4602-a07f-0e7283d9bfe2",
   "metadata": {},
   "source": [
    "### Under Treatment patients\n"
   ]
  },
  {
   "cell_type": "code",
   "execution_count": 89,
   "id": "d8d2919f-2725-4e1d-8295-47644197ae07",
   "metadata": {},
   "outputs": [
    {
     "data": {
      "text/plain": [
       "9.525000000000006"
      ]
     },
     "execution_count": 89,
     "metadata": {},
     "output_type": "execute_result"
    }
   ],
   "source": [
    "# All patients under treatment\n",
    "under_treatment = 100 - (recovered_rate + death_rate)\n",
    "under_treatment"
   ]
  },
  {
   "cell_type": "markdown",
   "id": "61c072da-182b-411f-8b1a-aa47b14d24d6",
   "metadata": {},
   "source": [
    "### Show this as dought chat"
   ]
  },
  {
   "cell_type": "code",
   "execution_count": 90,
   "id": "adaa5047-90f8-4904-9112-9af29f561e99",
   "metadata": {},
   "outputs": [
    {
     "name": "stdout",
     "output_type": "stream",
     "text": [
      "Total recovery Rate: 85.2375\n",
      "Casuality Rate: 5.2375\n",
      "under treatment Rate: 9.525000000000006\n"
     ]
    }
   ],
   "source": [
    "print(f\"Total recovery Rate:\", recovered_rate)\n",
    "print(f\"Casuality Rate:\", death_rate)\n",
    "print(f\"under treatment Rate:\" , under_treatment)"
   ]
  },
  {
   "cell_type": "code",
   "execution_count": 93,
   "id": "dee7b2f9-e391-4a46-beca-57547188c22a",
   "metadata": {},
   "outputs": [
    {
     "data": {
      "image/png": "[encoded data removed]",
      "text/plain": [
       "<Figure size 800x800 with 1 Axes>"
      ]
     },
     "metadata": {},
     "output_type": "display_data"
    }
   ],
   "source": [
    "import matplotlib.pyplot as plt\n",
    "\n",
    "labels = ['Recovered', 'Deceased', 'Under-Treatment']\n",
    "sizes = [recovered_rate, death_rate, under_treatment]  # make sure these variables are defined\n",
    "colors = ['green', 'red', 'gray']\n",
    "\n",
    "plt.figure(figsize=(8, 8))\n",
    "plt.pie(\n",
    "    sizes,\n",
    "    labels=labels,\n",
    "    autopct='%1.1f%%',  # fixed typo here\n",
    "    colors=colors,\n",
    "    startangle=140,\n",
    "    wedgeprops={'edgecolor': 'white', 'linewidth': 2}\n",
    ")\n",
    "\n",
    "# Add a white center circle to make it a donut chart\n",
    "centre_circle = plt.Circle((0, 0), 0.70, fc='white')\n",
    "plt.gca().add_artist(centre_circle)\n",
    "\n",
    "plt.title(\"Patient Outcome Distribution\")\n",
    "plt.show()\n"
   ]
  },
  {
   "cell_type": "markdown",
   "id": "d485120a-ff81-43ff-b4ca-9eabed75247e",
   "metadata": {},
   "source": [
    "### connect to Required libraries"
   ]
  },
  {
   "cell_type": "code",
   "execution_count": 94,
   "id": "799e6ec8-76af-430e-9da7-7c423aa74c94",
   "metadata": {},
   "outputs": [
    {
     "data": {
      "text/html": [
       "<div>\n",
       "<style scoped>\n",
       "    .dataframe tbody tr th:only-of-type {\n",
       "        vertical-align: middle;\n",
       "    }\n",
       "\n",
       "    .dataframe tbody tr th {\n",
       "        vertical-align: top;\n",
       "    }\n",
       "\n",
       "    .dataframe thead th {\n",
       "        text-align: right;\n",
       "    }\n",
       "</style>\n",
       "<table border=\"1\" class=\"dataframe\">\n",
       "  <thead>\n",
       "    <tr style=\"text-align: right;\">\n",
       "      <th></th>\n",
       "      <th>Patient ID</th>\n",
       "      <th>Gender</th>\n",
       "      <th>Disease</th>\n",
       "      <th>Treatment</th>\n",
       "      <th>Hospital</th>\n",
       "      <th>Admission Date</th>\n",
       "      <th>Discharge Date</th>\n",
       "      <th>Treatment Status</th>\n",
       "      <th>Cause of Death</th>\n",
       "      <th>Date of Birth</th>\n",
       "    </tr>\n",
       "  </thead>\n",
       "  <tbody>\n",
       "    <tr>\n",
       "      <th>0</th>\n",
       "      <td>PAT-00001</td>\n",
       "      <td>Male</td>\n",
       "      <td>Tuberculosis</td>\n",
       "      <td>Dialysis</td>\n",
       "      <td>City General Hospital</td>\n",
       "      <td>2022-12-19</td>\n",
       "      <td>2023-01-16</td>\n",
       "      <td>Recovered</td>\n",
       "      <td>NaN</td>\n",
       "      <td>1973-06-05</td>\n",
       "    </tr>\n",
       "    <tr>\n",
       "      <th>1</th>\n",
       "      <td>PAT-00002</td>\n",
       "      <td>Female</td>\n",
       "      <td>Malaria</td>\n",
       "      <td>Dialysis</td>\n",
       "      <td>City General Hospital</td>\n",
       "      <td>2023-03-29</td>\n",
       "      <td>2023-04-21</td>\n",
       "      <td>Recovered</td>\n",
       "      <td>NaN</td>\n",
       "      <td>1998-11-21</td>\n",
       "    </tr>\n",
       "    <tr>\n",
       "      <th>2</th>\n",
       "      <td>PAT-00003</td>\n",
       "      <td>Female</td>\n",
       "      <td>Malaria</td>\n",
       "      <td>Surgery</td>\n",
       "      <td>City General Hospital</td>\n",
       "      <td>2022-09-16</td>\n",
       "      <td>2022-10-15</td>\n",
       "      <td>Recovered</td>\n",
       "      <td>NaN</td>\n",
       "      <td>1942-02-14</td>\n",
       "    </tr>\n",
       "    <tr>\n",
       "      <th>3</th>\n",
       "      <td>PAT-00004</td>\n",
       "      <td>Male</td>\n",
       "      <td>Asthma</td>\n",
       "      <td>Dialysis</td>\n",
       "      <td>City General Hospital</td>\n",
       "      <td>2022-02-07</td>\n",
       "      <td>2022-02-11</td>\n",
       "      <td>Recovered</td>\n",
       "      <td>NaN</td>\n",
       "      <td>1943-01-17</td>\n",
       "    </tr>\n",
       "    <tr>\n",
       "      <th>4</th>\n",
       "      <td>PAT-00005</td>\n",
       "      <td>Female</td>\n",
       "      <td>Diabetes</td>\n",
       "      <td>Physical Therapy</td>\n",
       "      <td>City General Hospital</td>\n",
       "      <td>2022-10-25</td>\n",
       "      <td>2022-10-30</td>\n",
       "      <td>Recovered</td>\n",
       "      <td>NaN</td>\n",
       "      <td>1979-07-28</td>\n",
       "    </tr>\n",
       "    <tr>\n",
       "      <th>...</th>\n",
       "      <td>...</td>\n",
       "      <td>...</td>\n",
       "      <td>...</td>\n",
       "      <td>...</td>\n",
       "      <td>...</td>\n",
       "      <td>...</td>\n",
       "      <td>...</td>\n",
       "      <td>...</td>\n",
       "      <td>...</td>\n",
       "      <td>...</td>\n",
       "    </tr>\n",
       "    <tr>\n",
       "      <th>7995</th>\n",
       "      <td>PAT-07996</td>\n",
       "      <td>Male</td>\n",
       "      <td>HIV/AIDS</td>\n",
       "      <td>Radiotherapy</td>\n",
       "      <td>Sunrise Clinic</td>\n",
       "      <td>2022-06-28</td>\n",
       "      <td>2022-07-05</td>\n",
       "      <td>Recovered</td>\n",
       "      <td>NaN</td>\n",
       "      <td>1925-11-10</td>\n",
       "    </tr>\n",
       "    <tr>\n",
       "      <th>7996</th>\n",
       "      <td>PAT-07997</td>\n",
       "      <td>Female</td>\n",
       "      <td>Heart Disease</td>\n",
       "      <td>Chemotherapy</td>\n",
       "      <td>Sunrise Clinic</td>\n",
       "      <td>2022-01-28</td>\n",
       "      <td>2022-02-25</td>\n",
       "      <td>Recovered</td>\n",
       "      <td>NaN</td>\n",
       "      <td>2004-06-15</td>\n",
       "    </tr>\n",
       "    <tr>\n",
       "      <th>7997</th>\n",
       "      <td>PAT-07998</td>\n",
       "      <td>Male</td>\n",
       "      <td>Asthma</td>\n",
       "      <td>Dialysis</td>\n",
       "      <td>Sunrise Clinic</td>\n",
       "      <td>2022-09-14</td>\n",
       "      <td>2022-09-22</td>\n",
       "      <td>Recovered</td>\n",
       "      <td>NaN</td>\n",
       "      <td>1993-10-03</td>\n",
       "    </tr>\n",
       "    <tr>\n",
       "      <th>7998</th>\n",
       "      <td>PAT-07999</td>\n",
       "      <td>Male</td>\n",
       "      <td>Typhoid</td>\n",
       "      <td>Ventilation Support</td>\n",
       "      <td>Sunrise Clinic</td>\n",
       "      <td>2023-08-04</td>\n",
       "      <td>2023-08-25</td>\n",
       "      <td>Recovered</td>\n",
       "      <td>NaN</td>\n",
       "      <td>1999-02-01</td>\n",
       "    </tr>\n",
       "    <tr>\n",
       "      <th>7999</th>\n",
       "      <td>PAT-08000</td>\n",
       "      <td>Male</td>\n",
       "      <td>Tuberculosis</td>\n",
       "      <td>Medication</td>\n",
       "      <td>Sunrise Clinic</td>\n",
       "      <td>2023-09-09</td>\n",
       "      <td>2023-10-06</td>\n",
       "      <td>Recovered</td>\n",
       "      <td>NaN</td>\n",
       "      <td>1932-03-17</td>\n",
       "    </tr>\n",
       "  </tbody>\n",
       "</table>\n",
       "<p>8000 rows × 10 columns</p>\n",
       "</div>"
      ],
      "text/plain": [
       "     Patient ID  Gender        Disease            Treatment  \\\n",
       "0     PAT-00001    Male   Tuberculosis             Dialysis   \n",
       "1     PAT-00002  Female        Malaria             Dialysis   \n",
       "2     PAT-00003  Female        Malaria              Surgery   \n",
       "3     PAT-00004    Male         Asthma             Dialysis   \n",
       "4     PAT-00005  Female       Diabetes     Physical Therapy   \n",
       "...         ...     ...            ...                  ...   \n",
       "7995  PAT-07996    Male       HIV/AIDS         Radiotherapy   \n",
       "7996  PAT-07997  Female  Heart Disease         Chemotherapy   \n",
       "7997  PAT-07998    Male         Asthma             Dialysis   \n",
       "7998  PAT-07999    Male        Typhoid  Ventilation Support   \n",
       "7999  PAT-08000    Male   Tuberculosis           Medication   \n",
       "\n",
       "                   Hospital Admission Date Discharge Date Treatment Status  \\\n",
       "0     City General Hospital     2022-12-19     2023-01-16        Recovered   \n",
       "1     City General Hospital     2023-03-29     2023-04-21        Recovered   \n",
       "2     City General Hospital     2022-09-16     2022-10-15        Recovered   \n",
       "3     City General Hospital     2022-02-07     2022-02-11        Recovered   \n",
       "4     City General Hospital     2022-10-25     2022-10-30        Recovered   \n",
       "...                     ...            ...            ...              ...   \n",
       "7995         Sunrise Clinic     2022-06-28     2022-07-05        Recovered   \n",
       "7996         Sunrise Clinic     2022-01-28     2022-02-25        Recovered   \n",
       "7997         Sunrise Clinic     2022-09-14     2022-09-22        Recovered   \n",
       "7998         Sunrise Clinic     2023-08-04     2023-08-25        Recovered   \n",
       "7999         Sunrise Clinic     2023-09-09     2023-10-06        Recovered   \n",
       "\n",
       "     Cause of Death Date of Birth  \n",
       "0               NaN    1973-06-05  \n",
       "1               NaN    1998-11-21  \n",
       "2               NaN    1942-02-14  \n",
       "3               NaN    1943-01-17  \n",
       "4               NaN    1979-07-28  \n",
       "...             ...           ...  \n",
       "7995            NaN    1925-11-10  \n",
       "7996            NaN    2004-06-15  \n",
       "7997            NaN    1993-10-03  \n",
       "7998            NaN    1999-02-01  \n",
       "7999            NaN    1932-03-17  \n",
       "\n",
       "[8000 rows x 10 columns]"
      ]
     },
     "execution_count": 94,
     "metadata": {},
     "output_type": "execute_result"
    }
   ],
   "source": [
    "import seaborn as sns\n",
    "import pandas as pd\n",
    "import matplotlib.pyplot as plt\n",
    "\n",
    "df = pd.read_csv(r\"C:\\Users\\Hritick Jha\\Data Science and Analytics for Healthcare Market Trends\\Health care Data Analysis with python\\Health_dataset.csv\")\n",
    "df"
   ]
  },
  {
   "cell_type": "markdown",
   "id": "c961f65e-ec24-4700-acc6-e40baf26fd52",
   "metadata": {},
   "source": [
    "### 9. what are the peak days of the week on a monthly bases for admissions and discharges?"
   ]
  },
  {
   "cell_type": "code",
   "execution_count": 95,
   "id": "869b2fa8-bb12-4c19-a77b-6fefed9bc139",
   "metadata": {},
   "outputs": [
    {
     "data": {
      "text/plain": [
       "['Mon', 'Tue', 'wed', 'Thu', 'Fri', 'sat', 'sun']"
      ]
     },
     "execution_count": 95,
     "metadata": {},
     "output_type": "execute_result"
    }
   ],
   "source": [
    "# convert Admission date to proper date format\n",
    "df['Admission Date'] = pd.to_datetime(df['Admission Date'],errors = \"coerce\")\n",
    "\n",
    "# Extract the short day and month name\n",
    "df['Admission Month'] = df['Admission Date'].dt.strftime('%b')\n",
    "df['Admission day'] = df['Admission Date'].dt.strftime('%a')\n",
    "\n",
    "# Difine proper order for month and abbreviated days\n",
    "month_order = [\n",
    "    'Jan','Feb','Mar','Apr','May','Jun','Jul','Aug','sep','oct','Nov','Dec' ]\n",
    "day_order = [ 'Mon', 'Tue','wed','Thu','Fri','sat','sun']\n",
    "day_order\n",
    "\n"
   ]
  },
  {
   "cell_type": "code",
   "execution_count": 18,
   "id": "2915ffd1-553f-433a-b19e-e5ac2abfa700",
   "metadata": {},
   "outputs": [
    {
     "data": {
      "image/png": "[encoded data removed]",
      "text/plain": [
       "<Figure size 1200x600 with 2 Axes>"
      ]
     },
     "metadata": {},
     "output_type": "display_data"
    }
   ],
   "source": [
    "import pandas as pd\n",
    "import seaborn as sns\n",
    "import matplotlib.pyplot as plt\n",
    "\n",
    "# STEP 1: Load the dataset\n",
    "# Replace the filename below with your actual file name\n",
    "df = pd.read_csv(r\"C:\\Users\\Hritick Jha\\Data Science and Analytics for Healthcare Market Trends\\Health care Data Analysis with python\\Health_dataset.csv\")  # 👈 Change this to your real file name\n",
    "\n",
    "# STEP 2: Convert 'Admission Date' to datetime format\n",
    "df['Admission Date'] = pd.to_datetime(df['Admission Date'], errors=\"coerce\")\n",
    "\n",
    "# STEP 3: Extract short month name and weekday name\n",
    "df['Admission Month'] = df['Admission Date'].dt.strftime('%b')  # Jan, Feb, ...\n",
    "df['Admission Day'] = df['Admission Date'].dt.strftime('%a')    # Mon, Tue, ...\n",
    "\n",
    "# STEP 4: Define the order of months and days\n",
    "month_order = ['Jan','Feb','Mar','Apr','May','Jun','Jul','Aug','Sep','Oct','Nov','Dec']\n",
    "day_order = ['Mon', 'Tue', 'Wed', 'Thu', 'Fri', 'Sat', 'Sun']\n",
    "\n",
    "# STEP 5: Create the pivot table for heatmap\n",
    "admission_heatmap = df.pivot_table(\n",
    "    index='Admission Day',\n",
    "    columns='Admission Month',\n",
    "    aggfunc='size',\n",
    "    fill_value=0\n",
    ")\n",
    "\n",
    "# STEP 6: Reindex to maintain proper order\n",
    "admission_heatmap = admission_heatmap.reindex(index=day_order, columns=month_order)\n",
    "\n",
    "# STEP 7: Plot the heatmap\n",
    "plt.figure(figsize=(12, 6))\n",
    "sns.heatmap(admission_heatmap, cmap='YlOrRd', annot=True, fmt=\"d\")\n",
    "plt.title('Total patients by week on a monthly bases')\n",
    "plt.xlabel('Month')\n",
    "plt.ylabel('Day')\n",
    "plt.tight_layout()\n",
    "plt.show()\n",
    "\n",
    "\n",
    "\n",
    "\n",
    "\n",
    "\n"
   ]
  },
  {
   "cell_type": "markdown",
   "id": "601086a3-79d5-4242-9444-d46bd1a14f4b",
   "metadata": {},
   "source": [
    "### 10. what is the total number of patients admitted per week, month and year? Add a filter to filter the month by year"
   ]
  },
  {
   "cell_type": "code",
   "execution_count": 24,
   "id": "48124dd4-494a-4f70-84ee-698d41dcc0d8",
   "metadata": {},
   "outputs": [
    {
     "data": {
      "text/plain": [
       "Admission day\n",
       "Mon    1096\n",
       "Tue    1087\n",
       "wed       0\n",
       "Thu    1151\n",
       "Fri    1177\n",
       "Sat    1143\n",
       "Sun    1179\n",
       "dtype: int64"
      ]
     },
     "execution_count": 24,
     "metadata": {},
     "output_type": "execute_result"
    }
   ],
   "source": [
    "# create a new column\n",
    "df['Admission day'] = df['Admission Date'].dt.strftime('%a')\n",
    "\n",
    "# Group data by the day name and count admissions\n",
    "admission_by_day = df.groupby(\"Admission day\").size()\n",
    "admission_by_day\n",
    "\n",
    "# start the name of day\n",
    "day_order = ['Mon', 'Tue','wed','Thu','Fri','Sat','Sun']\n",
    "admission_by_day = admission_by_day.reindex(day_order, fill_value=0)\n",
    "admission_by_day\n"
   ]
  },
  {
   "cell_type": "code",
   "execution_count": 28,
   "id": "16f178ee-dd56-4476-9b10-3beb34872568",
   "metadata": {},
   "outputs": [
    {
     "data": {
      "text/plain": [
       "Admission day\n",
       "Mon    1096\n",
       "Tue    1087\n",
       "wed       0\n",
       "Thu    1151\n",
       "Fri    1177\n",
       "Sat    1143\n",
       "Sun    1179\n",
       "dtype: int64"
      ]
     },
     "execution_count": 28,
     "metadata": {},
     "output_type": "execute_result"
    },
    {
     "data": {
      "image/png": "[encoded data removed]",
      "text/plain": [
       "<Figure size 1000x400 with 1 Axes>"
      ]
     },
     "metadata": {},
     "output_type": "display_data"
    }
   ],
   "source": [
    "# create a visual\n",
    "admission_by_day.plot(kind=\"bar\", color=\"#8D2837\",figsize=(10,4))\n",
    "plt.title('Admission by Day of the week')\n",
    "plt.xticks(rotation=0)\n",
    "admission_by_day"
   ]
  },
  {
   "cell_type": "code",
   "execution_count": 30,
   "id": "fd837ce3-685f-4780-a2ac-5c2d535362eb",
   "metadata": {},
   "outputs": [
    {
     "data": {
      "text/plain": [
       "Admission day\n",
       "Sun    1179\n",
       "Fri    1177\n",
       "Wed    1167\n",
       "Name: count, dtype: int64"
      ]
     },
     "execution_count": 30,
     "metadata": {},
     "output_type": "execute_result"
    }
   ],
   "source": [
    "# Top 3 days with high admission\n",
    "top_3_admission_day = df['Admission day'].value_counts().nlargest(3)\n",
    "top_3_admission_day"
   ]
  },
  {
   "cell_type": "code",
   "execution_count": 32,
   "id": "dc1c8f18-2184-4f2a-aa44-8eabfab77d2f",
   "metadata": {},
   "outputs": [
    {
     "data": {
      "text/plain": [
       "Admission day\n",
       "Sun    1179\n",
       "Fri    1177\n",
       "Wed    1167\n",
       "Name: count, dtype: int64"
      ]
     },
     "execution_count": 32,
     "metadata": {},
     "output_type": "execute_result"
    }
   ],
   "source": [
    "#bottom 3 days with high admission \n",
    "botton_3_admission_day = df['Admission day']. value_counts().nlargest(3)\n",
    "botton_3_admission_day"
   ]
  },
  {
   "cell_type": "markdown",
   "id": "d5acb27b-7c98-422d-bcf7-0be739391eb0",
   "metadata": {},
   "source": [
    "### Total admission by month filtered by year"
   ]
  },
  {
   "cell_type": "code",
   "execution_count": 43,
   "id": "63601264-d594-465d-8a8f-416778470179",
   "metadata": {},
   "outputs": [
    {
     "name": "stdout",
     "output_type": "stream",
     "text": [
      "Total patients admitted in the year 2022\n"
     ]
    },
    {
     "data": {
      "text/html": [
       "<div>\n",
       "<style scoped>\n",
       "    .dataframe tbody tr th:only-of-type {\n",
       "        vertical-align: middle;\n",
       "    }\n",
       "\n",
       "    .dataframe tbody tr th {\n",
       "        vertical-align: top;\n",
       "    }\n",
       "\n",
       "    .dataframe thead th {\n",
       "        text-align: right;\n",
       "    }\n",
       "</style>\n",
       "<table border=\"1\" class=\"dataframe\">\n",
       "  <thead>\n",
       "    <tr style=\"text-align: right;\">\n",
       "      <th></th>\n",
       "      <th>Admission Month</th>\n",
       "      <th>Month Name</th>\n",
       "      <th>Total patients</th>\n",
       "    </tr>\n",
       "  </thead>\n",
       "  <tbody>\n",
       "    <tr>\n",
       "      <th>0</th>\n",
       "      <td>1</td>\n",
       "      <td>January</td>\n",
       "      <td>351</td>\n",
       "    </tr>\n",
       "    <tr>\n",
       "      <th>1</th>\n",
       "      <td>2</td>\n",
       "      <td>February</td>\n",
       "      <td>291</td>\n",
       "    </tr>\n",
       "    <tr>\n",
       "      <th>2</th>\n",
       "      <td>3</td>\n",
       "      <td>March</td>\n",
       "      <td>313</td>\n",
       "    </tr>\n",
       "    <tr>\n",
       "      <th>3</th>\n",
       "      <td>4</td>\n",
       "      <td>April</td>\n",
       "      <td>327</td>\n",
       "    </tr>\n",
       "    <tr>\n",
       "      <th>4</th>\n",
       "      <td>5</td>\n",
       "      <td>May</td>\n",
       "      <td>349</td>\n",
       "    </tr>\n",
       "    <tr>\n",
       "      <th>5</th>\n",
       "      <td>6</td>\n",
       "      <td>June</td>\n",
       "      <td>315</td>\n",
       "    </tr>\n",
       "    <tr>\n",
       "      <th>6</th>\n",
       "      <td>7</td>\n",
       "      <td>July</td>\n",
       "      <td>327</td>\n",
       "    </tr>\n",
       "    <tr>\n",
       "      <th>7</th>\n",
       "      <td>8</td>\n",
       "      <td>August</td>\n",
       "      <td>329</td>\n",
       "    </tr>\n",
       "    <tr>\n",
       "      <th>8</th>\n",
       "      <td>9</td>\n",
       "      <td>September</td>\n",
       "      <td>311</td>\n",
       "    </tr>\n",
       "    <tr>\n",
       "      <th>9</th>\n",
       "      <td>10</td>\n",
       "      <td>October</td>\n",
       "      <td>311</td>\n",
       "    </tr>\n",
       "    <tr>\n",
       "      <th>10</th>\n",
       "      <td>11</td>\n",
       "      <td>November</td>\n",
       "      <td>295</td>\n",
       "    </tr>\n",
       "    <tr>\n",
       "      <th>11</th>\n",
       "      <td>12</td>\n",
       "      <td>December</td>\n",
       "      <td>321</td>\n",
       "    </tr>\n",
       "  </tbody>\n",
       "</table>\n",
       "</div>"
      ],
      "text/plain": [
       "    Admission Month Month Name  Total patients\n",
       "0                 1    January             351\n",
       "1                 2   February             291\n",
       "2                 3      March             313\n",
       "3                 4      April             327\n",
       "4                 5        May             349\n",
       "5                 6       June             315\n",
       "6                 7       July             327\n",
       "7                 8     August             329\n",
       "8                 9  September             311\n",
       "9                10    October             311\n",
       "10               11   November             295\n",
       "11               12   December             321"
      ]
     },
     "execution_count": 43,
     "metadata": {},
     "output_type": "execute_result"
    }
   ],
   "source": [
    "# filter using the year of admission\n",
    "selected_year = 2022\n",
    "df_year = df[df['Admission Date'].dt.year == selected_year].copy()\n",
    "\n",
    "# Adding the month  column\n",
    "df_year['Admission Month'] = df_year['Admission Date'].dt.month\n",
    "\n",
    "# Month Name\n",
    "df_year['Month Name'] = df_year['Admission Date'].dt.month_name()\n",
    "\n",
    "#Total Admission on a monthly basis\n",
    "monthly_admission = (\n",
    "    df_year\n",
    "    .groupby(['Admission Month', 'Month Name'])\n",
    "    .size()\n",
    "    .reset_index(name='Total patients')\n",
    "    .sort_values('Admission Month')\n",
    ")\n",
    "print (f\"Total patients admitted in the year {selected_year}\")\n",
    "monthly_admission"
   ]
  },
  {
   "cell_type": "markdown",
   "id": "69ca95db-8f3d-405b-ab3f-8b9aeb10aeec",
   "metadata": {},
   "source": [
    "### Create a line chart to visualize it"
   ]
  },
  {
   "cell_type": "code",
   "execution_count": 48,
   "id": "e8cd76d8-9931-4ac5-9f5f-7ac98924c604",
   "metadata": {},
   "outputs": [
    {
     "data": {
      "image/png": "[encoded data removed]",
      "text/plain": [
       "<Figure size 1000x500 with 1 Axes>"
      ]
     },
     "metadata": {},
     "output_type": "display_data"
    }
   ],
   "source": [
    "import pandas as pd\n",
    "import matplotlib.pyplot as plt\n",
    "\n",
    "# Assuming df is already loaded and 'Admission Date' is parsed as datetime\n",
    "df['Admission Date'] = pd.to_datetime(df['Admission Date'], errors=\"coerce\")\n",
    "\n",
    "# Extract month name and count patients per month\n",
    "df['Month Name'] = df['Admission Date'].dt.strftime('%b')  # Jan, Feb, ...\n",
    "monthly_admission = df['Month Name'].value_counts().reindex(\n",
    "    ['Jan','Feb','Mar','Apr','May','Jun','Jul','Aug','Sep','Oct','Nov','Dec']\n",
    ").reset_index()\n",
    "monthly_admission.columns = ['Month Name', '# patients']\n",
    "\n",
    "# Plotting\n",
    "plt.figure(figsize=(10, 5))\n",
    "plt.plot(monthly_admission['Month Name'], monthly_admission['# patients'],\n",
    "         marker='o', linestyle='-', color='#8D2837'\n",
    "        )\n",
    "plt.title(\"Total patients admitted in the year \")\n",
    "plt.xlabel(\"Month\")\n",
    "plt.ylabel(\"Number of Patients\")\n",
    "plt.grid(True)\n",
    "plt.tight_layout()\n",
    "plt.show()\n"
   ]
  },
  {
   "cell_type": "code",
   "execution_count": null,
   "id": "e32acec0-9ecc-4535-9e13-9a7b773e7b72",
   "metadata": {},
   "outputs": [],
   "source": []
  }
 ],
 "metadata": {
  "kernelspec": {
   "display_name": "Python 3 (ipykernel)",
   "language": "python",
   "name": "python3"
  },
  "language_info": {
   "codemirror_mode": {
    "name": "ipython",
    "version": 3
   },
   "file_extension": ".py",
   "mimetype": "text/x-python",
   "name": "python",
   "nbconvert_exporter": "python",
   "pygments_lexer": "ipython3",
   "version": "3.12.7"
  }
 },
 "nbformat": 4,
 "nbformat_minor": 5
}
